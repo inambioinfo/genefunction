{
 "cells": [
  {
   "cell_type": "code",
   "execution_count": 1,
   "metadata": {
    "colab": {},
    "colab_type": "code",
    "id": "7PUc4bw4a4DQ"
   },
   "outputs": [],
   "source": [
    "import requests\n",
    "import json\n",
    "import re\n",
    "import pandas as pd\n",
    "import math\n",
    "import os"
   ]
  },
  {
   "cell_type": "code",
   "execution_count": 2,
   "metadata": {
    "colab": {},
    "colab_type": "code",
    "id": "zBRJbEyQXTLF"
   },
   "outputs": [],
   "source": [
    "def call(mode, additional_info=None):\n",
    "    if mode == \"tissuelist\":\n",
    "        API_HOST = \"https://www.proteomicsdb.org/proteomicsdb/logic/api/tissuelist.xsodata/CA_AVAILABLEBIOLOGICALSOURCES_API?$select=TISSUE_ID,TISSUE_NAME,TISSUE_GROUP_NAME,TISSUE_CATEGORY,SCOPE_ID,SCOPE_NAME,QUANTIFICATION_METHOD_ID,QUANTIFICATION_METHOD_NAME,MS_LEVEL&$format=json\"\n",
    "        response = requests.get(url=API_HOST)\n",
    "        return json.loads(response.text)[\"d\"][\"results\"]\n",
    "\n",
    "    elif mode == \"proteinlist\":\n",
    "        API_HOST = \"https://www.proteomicsdb.org/proteomicsdb/logic/api/proteinspertissue.xsodata/InputParams(TISSUE_ID='{}',CALCULATION_METHOD={},SWISSPROT_ONLY={},NO_ISOFORM={},TAXCODE={})/Results?$select=ENTRY_NAME,UNIQUE_IDENTIFIER,DATABASE,PROTEIN_DESCRIPTION,PEPTIDES,TISSUE_ID,SAMPLE_NAME,SAMPLE_DESCRIPTION,UNNORMALIZED_EXPRESSION,NORMALIZED_EXPRESSION&$format=json\"\n",
    "        API_HOST = API_HOST.format(additional_info[0], additional_info[1], additional_info[2],additional_info[3],additional_info[4])\n",
    "        response = requests.get(url=API_HOST)\n",
    "        return json.loads(response.text)[\"d\"][\"results\"]\n",
    "    \n",
    "    elif mode == \"proteinexp\":\n",
    "        API_HOST = \"https://www.proteomicsdb.org/proteomicsdb/logic/api/proteinexpression.xsodata/InputParams(PROTEINFILTER='{}',MS_LEVEL={},TISSUE_CATEGORY_SELECTION='',TISSUE_ID_SELECTION='',SCOPE_SELECTION={},CALCULATION_METHOD={},GROUP_BY_TISSUE={},EXP_ID={})/Results?$select=UNIQUE_IDENTIFIER,TISSUE_ID,TISSUE_NAME,TISSUE_SAP_SYNONYM,SAMPLE_ID,SAMPLE_NAME,AFFINITY_PURIFICATION,EXPERIMENT_ID,EXPERIMENT_NAME,EXPERIMENT_SCOPE,EXPERIMENT_SCOPE_NAME,PROJECT_ID,PROJECT_NAME,PROJECT_STATUS,UNNORMALIZED_INTENSITY,NORMALIZED_INTENSITY,MIN_NORMALIZED_INTENSITY,MAX_NORMALIZED_INTENSITY,SAMPLES&$format=json\"\n",
    "        API_HOST = API_HOST.format(additional_info[0], additional_info[1], additional_info[2], additional_info[3], additional_info[4], additional_info[5])    \n",
    "        response = requests.get(url=API_HOST)\n",
    "        return json.loads(response.text)[\"d\"][\"results\"]\n",
    "    \n",
    "    elif mode == \"proteinspertissue\":       \n",
    "        API_HOST = \"https://www.proteomicsdb.org/proteomicsdb/logic/api/proteinspertissue.xsodata/InputParams(TISSUE_ID='{}',CALCULATION_METHOD=0,SWISSPROT_ONLY=1,NO_ISOFORM=1,TAXCODE=9606)/Results?$select=ENTRY_NAME,UNIQUE_IDENTIFIER,DATABASE,PROTEIN_DESCRIPTION,PEPTIDES,TISSUE_ID,SAMPLE_NAME,SAMPLE_DESCRIPTION,UNNORMALIZED_EXPRESSION,NORMALIZED_EXPRESSION&$format=json\"\n",
    "        API_HOST = API_HOST.format(additional_info[0])\n",
    "        response = requests.get(url=API_HOST)\n",
    "        return json.loads(response.text)[\"d\"][\"results\"] \n",
    "    "
   ]
  },
  {
   "cell_type": "code",
   "execution_count": 3,
   "metadata": {
    "colab": {},
    "colab_type": "code",
    "id": "1BENVCmBbhOM"
   },
   "outputs": [],
   "source": [
    "tissuelist = pd.DataFrame.from_dict(call(\"tissuelist\"))\n",
    "cell_line_tissue_id = tissuelist.loc[tissuelist[\"TISSUE_CATEGORY\"]==\"cell line\", \"TISSUE_ID\"].tolist()"
   ]
  },
  {
   "cell_type": "code",
   "execution_count": 4,
   "metadata": {},
   "outputs": [],
   "source": [
    "tissue_id_to_name_dict = dict(zip(tissuelist[\"TISSUE_ID\"], tissuelist[\"TISSUE_NAME\"]))"
   ]
  },
  {
   "cell_type": "code",
   "execution_count": 5,
   "metadata": {},
   "outputs": [],
   "source": [
    "tissue_id_to_description = pd.read_csv(\"BTO_Organ_dict.csv\", header=None, encoding=\"ISO-8859-1\")\n",
    "tissue_id_to_description_dict = dict(zip(tissue_id_to_description.iloc[:, 0], tissue_id_to_description.iloc[:, 1]))"
   ]
  },
  {
   "cell_type": "markdown",
   "metadata": {},
   "source": [
    "# Download Protein list"
   ]
  },
  {
   "cell_type": "code",
   "execution_count": 6,
   "metadata": {
    "colab": {
     "base_uri": "https://localhost:8080/",
     "height": 799
    },
    "colab_type": "code",
    "id": "Sf3gg_cDe2ln",
    "outputId": "5f1e6ec3-a4c1-4139-d921-c59d10c3cf75",
    "scrolled": true
   },
   "outputs": [
    {
     "name": "stdout",
     "output_type": "stream",
     "text": [
      "BTO:0004136\n",
      "PDB:200014\n",
      "BTO:0002418\n",
      "PDB:200028\n",
      "BTO:0004479\n",
      "BTO:0001932\n",
      "PDB:200022\n",
      "BTO:0002026\n",
      "PDB:200011\n",
      "PDB:200029\n",
      "PDB:200009\n",
      "BTO:0003981\n",
      "BTO:0001370\n",
      "BTO:0002181\n",
      "PDB:200012\n",
      "BTO:0001948\n",
      "BTO:0004440\n",
      "PO:0000009\n",
      "PDB:200013\n",
      "PDB:200021\n",
      "BTO:0003722\n",
      "BTO:0000225\n",
      "PDB:200007\n",
      "PDB:200015\n",
      "PDB:200027\n",
      "PO:0000008\n",
      "PDB:200020\n",
      "PDB:200026\n",
      "PDB:200017\n",
      "BTO:0000793\n",
      "PDB:200024\n",
      "PDB:200025\n",
      "BTO:0003775\n",
      "PDB:200019\n",
      "BTO:0003076\n",
      "PDB:200010\n",
      "BTO:0005102\n",
      "PDB:200023\n",
      "BTO:0000568\n",
      "PDB:200016\n",
      "PDB:200018\n",
      "BTO:0002025\n",
      "PDB:200008\n",
      "PDB:200030\n",
      "BTO:0003774\n",
      "BTO:0000941\n"
     ]
    }
   ],
   "source": [
    "protein_list = []\n",
    "protein_df = pd.DataFrame()\n",
    "for tissue in set(cell_line_tissue_id):\n",
    "    \n",
    "    try:\n",
    "        # tissue = \"BTO:0000975\"\n",
    "        tmp_proteinlist_df = pd.DataFrame.from_dict(call(\"proteinlist\", [tissue, 0, 1, 1, 9606]))\n",
    "        # print(tmp_proteinlist_df)\n",
    "        proteinlist_by_this_tissue = list(set(tmp_proteinlist_df[\"UNIQUE_IDENTIFIER\"].tolist()))\n",
    "        protein_list.extend(proteinlist_by_this_tissue)\n",
    "\n",
    "        protein_df = pd.concat([protein_df, tmp_proteinlist_df])\n",
    "    except:\n",
    "        print(tissue)\n",
    "        pass\n",
    "\n",
    "unique_uniprot_protein_list = list(set(protein_list))"
   ]
  },
  {
   "cell_type": "markdown",
   "metadata": {},
   "source": [
    "# Download proteins per tissue "
   ]
  },
  {
   "cell_type": "code",
   "execution_count": 7,
   "metadata": {
    "scrolled": true
   },
   "outputs": [],
   "source": [
    "protein_list = []\n",
    "protein_df = pd.DataFrame()\n",
    "for tissue in set(cell_line_tissue_id):\n",
    "    tmp_proteinlist_df = pd.DataFrame.from_dict(call(\"proteinspertissue\", [tissue]))\n",
    "    protein_df = pd.concat([protein_df, tmp_proteinlist_df])\n"
   ]
  },
  {
   "cell_type": "markdown",
   "metadata": {},
   "source": [
    "# Preprocess"
   ]
  },
  {
   "cell_type": "code",
   "execution_count": 8,
   "metadata": {},
   "outputs": [],
   "source": [
    "protein_df[\"NORMALIZED_EXPRESSION\"] = pd.to_numeric(protein_df[\"NORMALIZED_EXPRESSION\"])\n",
    "protein_df_pivoted = protein_df.pivot_table(index=\"ENTRY_NAME\", columns=\"SAMPLE_NAME\", values=\"NORMALIZED_EXPRESSION\")\n",
    "protein_df_pivoted = protein_df_pivoted.round(10)\n",
    "protein_df_pivoted_drop_duplicates = protein_df_pivoted.T.drop_duplicates().T"
   ]
  },
  {
   "cell_type": "code",
   "execution_count": null,
   "metadata": {},
   "outputs": [],
   "source": []
  },
  {
   "cell_type": "code",
   "execution_count": null,
   "metadata": {},
   "outputs": [],
   "source": []
  },
  {
   "cell_type": "markdown",
   "metadata": {},
   "source": [
    "# For Enrichr "
   ]
  },
  {
   "cell_type": "code",
   "execution_count": 9,
   "metadata": {},
   "outputs": [],
   "source": [
    "protein_df[\"NORMALIZED_EXPRESSION\"] = protein_df[\"NORMALIZED_EXPRESSION\"].astype('float64')"
   ]
  },
  {
   "cell_type": "code",
   "execution_count": 10,
   "metadata": {},
   "outputs": [],
   "source": [
    "new_column_name = \"TISSUE_TYPE;TISSUE_NAME;TISSUE_ID;SAMPLE_NAME\""
   ]
  },
  {
   "cell_type": "code",
   "execution_count": 11,
   "metadata": {},
   "outputs": [],
   "source": [
    "protein_df[new_column_name] = protein_df[\"TISSUE_ID\"].map(tissue_id_to_description_dict) + \" \" + protein_df[\"TISSUE_ID\"].map(tissue_id_to_name_dict) + \" \" + protein_df[\"TISSUE_ID\"] + \" \" + protein_df[\"SAMPLE_DESCRIPTION\"]"
   ]
  },
  {
   "cell_type": "markdown",
   "metadata": {},
   "source": [
    "## SHORTEN NAME"
   ]
  },
  {
   "cell_type": "code",
   "execution_count": 12,
   "metadata": {},
   "outputs": [],
   "source": [
    "new_labels = []\n",
    "for x in protein_df[new_column_name].tolist():\n",
    "    try:\n",
    "        regex = re.compile('[)(*&^%$#@!}{?><|];:') \n",
    "        x = re.sub(r\" ?\\([^)]+\\)\", \"\", x)\n",
    "    except:\n",
    "        print(x)\n",
    "    # Pass the string in search  \n",
    "    # method of regex object.     \n",
    "    if(regex.search(x) == None): \n",
    "        pass\n",
    "    else:         \n",
    "        print(x, \"String is not accepted.\")\n",
    "    x = x.replace(\" cell\", \"\")\n",
    "    x = x.replace(\" line\", \"\")\n",
    "    x = x.replace(\"TechRep\", \"Rep\")\n",
    "    x = x.replace(\"GradientTime_\", \"\")\n",
    "    x = x.replace(\"ColumnSize_\", \"\")\n",
    "    x = x.replace(\"DetectionWindow_\", \"\")\n",
    "    x = x.replace(\"ProteinExtractionMethods_\", \"\")\n",
    "    x = x.replace(\"_biorep\", \"_rep\")\n",
    "    x = x.replace(\"Rep.of.\", \"\")\n",
    "    x = x.replace(\"tecRep.of.\", \"\")\n",
    "    x = x.replace(\"tec\", \"\")\n",
    "    x = x.replace(\"X131.126_HM33.GM12005.131.126_\", \"\")\n",
    "    x = x.replace(\"X131.126_HM34.GM12005.131.126_\", \"\")\n",
    "    x = x.replace(\"_Trypsin_Proteome\", \"\")\n",
    "    x = x.replace(\"Lymphoblastoid lymphoblastoid\", \"Lymphoblastoid\")\n",
    "\n",
    "                      \n",
    "    new_labels.append(x)\n"
   ]
  },
  {
   "cell_type": "code",
   "execution_count": 13,
   "metadata": {},
   "outputs": [],
   "source": [
    "protein_df[new_column_name] = new_labels"
   ]
  },
  {
   "cell_type": "markdown",
   "metadata": {},
   "source": [
    "# PIVOT TABLE"
   ]
  },
  {
   "cell_type": "code",
   "execution_count": 14,
   "metadata": {},
   "outputs": [],
   "source": [
    "protein_expression_df = pd.pivot_table(protein_df, values=\"NORMALIZED_EXPRESSION\", index=new_column_name, columns=\"ENTRY_NAME\")"
   ]
  },
  {
   "cell_type": "code",
   "execution_count": null,
   "metadata": {},
   "outputs": [],
   "source": []
  },
  {
   "cell_type": "markdown",
   "metadata": {},
   "source": [
    "# SAVE"
   ]
  },
  {
   "cell_type": "code",
   "execution_count": 15,
   "metadata": {},
   "outputs": [],
   "source": [
    "output_folder_path = \"./data/\""
   ]
  },
  {
   "cell_type": "code",
   "execution_count": 16,
   "metadata": {},
   "outputs": [],
   "source": [
    "protein_expression_df.to_csv(output_folder_path+\"ProteomicsDB_proteinspertissue_pivoted.csv\")"
   ]
  },
  {
   "cell_type": "code",
   "execution_count": 17,
   "metadata": {},
   "outputs": [],
   "source": [
    "protein_df.to_csv(output_folder_path+\"ProteomicsDB_raw.csv\")"
   ]
  },
  {
   "cell_type": "code",
   "execution_count": 18,
   "metadata": {
    "colab": {},
    "colab_type": "code",
    "id": "itKw-lNGBTLG"
   },
   "outputs": [],
   "source": [
    "protein_id_df = protein_df.loc[:, [\"ENTRY_NAME\", \"UNIQUE_IDENTIFIER\"]].drop_duplicates()\n",
    "protein_id_df.to_csv(output_folder_path+\"ProteomicsDB_protein_id.csv\")"
   ]
  },
  {
   "cell_type": "code",
   "execution_count": 19,
   "metadata": {
    "colab": {},
    "colab_type": "code",
    "id": "s44hwPKyH6wL"
   },
   "outputs": [],
   "source": [
    "import pickle\n",
    "with open(output_folder_path+\"protein_list.pkl\", \"wb\") as f:\n",
    "    pickle.dump(unique_uniprot_protein_list, f)"
   ]
  },
  {
   "cell_type": "code",
   "execution_count": null,
   "metadata": {},
   "outputs": [],
   "source": []
  },
  {
   "cell_type": "code",
   "execution_count": null,
   "metadata": {},
   "outputs": [],
   "source": []
  },
  {
   "cell_type": "code",
   "execution_count": null,
   "metadata": {
    "colab": {},
    "colab_type": "code",
    "id": "U9LiBceXkLB7"
   },
   "outputs": [],
   "source": []
  }
 ],
 "metadata": {
  "colab": {
   "collapsed_sections": [],
   "name": "proteomicsDB_downloader.ipynb",
   "provenance": [],
   "toc_visible": true
  },
  "kernelspec": {
   "display_name": "Python 3",
   "language": "python",
   "name": "python3"
  },
  "language_info": {
   "codemirror_mode": {
    "name": "ipython",
    "version": 3
   },
   "file_extension": ".py",
   "mimetype": "text/x-python",
   "name": "python",
   "nbconvert_exporter": "python",
   "pygments_lexer": "ipython3",
   "version": "3.7.3"
  }
 },
 "nbformat": 4,
 "nbformat_minor": 1
}
